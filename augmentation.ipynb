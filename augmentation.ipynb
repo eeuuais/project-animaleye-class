{
 "cells": [
  {
   "cell_type": "code",
   "execution_count": 1,
   "metadata": {},
   "outputs": [
    {
     "name": "stdout",
     "output_type": "stream",
     "text": [
      "PyTorch version: 2.0.1+cpu\n",
      "CUDA available: False\n"
     ]
    }
   ],
   "source": [
    "import torch\n",
    "\n",
    "try:\n",
    "    # 파이토치 버전 출력\n",
    "    print(\"PyTorch version:\", torch.__version__)\n",
    "    # GPU 사용 가능 여부 출력\n",
    "    print(\"CUDA available:\", torch.cuda.is_available())\n",
    "    # 현재 사용 중인 GPU 디바이스 출력\n",
    "    if torch.cuda.is_available():\n",
    "        print(\"Current CUDA device:\", torch.cuda.current_device())\n",
    "except ModuleNotFoundError:\n",
    "    print(\"PyTorch is not installed. Please install PyTorch to use this functionality.\")\n"
   ]
  },
  {
   "cell_type": "code",
   "execution_count": null,
   "metadata": {},
   "outputs": [],
   "source": [
    "!pip install torch"
   ]
  },
  {
   "cell_type": "markdown",
   "metadata": {},
   "source": [
    "# file count"
   ]
  },
  {
   "cell_type": "code",
   "execution_count": 2,
   "metadata": {},
   "outputs": [
    {
     "name": "stdout",
     "output_type": "stream",
     "text": [
      "C:/Users/Sienna/2024project/data\\C1\\Negative 3507\n",
      "C:/Users/Sienna/2024project/data\\C1\\Positive 3515\n",
      "C:/Users/Sienna/2024project/data\\C2\\Negative 1080\n",
      "C:/Users/Sienna/2024project/data\\C2\\Positive 1076\n",
      "C:/Users/Sienna/2024project/data\\D3\\Mild 7741\n",
      "C:/Users/Sienna/2024project/data\\D3\\Negative 7740\n",
      "C:/Users/Sienna/2024project/data\\D3\\Severe 7727\n",
      "C:/Users/Sienna/2024project/data\\D4\\Early-stage 7738\n",
      "C:/Users/Sienna/2024project/data\\D4\\Immature 7758\n",
      "C:/Users/Sienna/2024project/data\\D4\\Mature 7727\n",
      "C:/Users/Sienna/2024project/data\\D4\\Negative 7740\n"
     ]
    }
   ],
   "source": [
    "# 파일 개수 확인\n",
    "\n",
    "import os\n",
    "\n",
    "path = 'C:/Users/Sienna/2024project/data'\n",
    "\n",
    "# # 서브 디렉토리 목록 출력\n",
    "# for root, subdirs, files in os.walk(path):\n",
    "\n",
    "#     for d in subdirs:\n",
    "#         fullpath = root + '/' + d\n",
    "#         print(fullpath)\n",
    "\n",
    "# print()\n",
    "\n",
    "# 서브 디렉토리별 파일 개수 출력\n",
    "for root, subdirs, files in os.walk(path):\n",
    "\n",
    "    if len(files) > 0:\n",
    "        print(root, len(files))"
   ]
  },
  {
   "cell_type": "markdown",
   "metadata": {},
   "source": [
    "# under-sampling"
   ]
  },
  {
   "cell_type": "code",
   "execution_count": 16,
   "metadata": {},
   "outputs": [
    {
     "ename": "KeyboardInterrupt",
     "evalue": "",
     "output_type": "error",
     "traceback": [
      "\u001b[1;31m---------------------------------------------------------------------------\u001b[0m",
      "\u001b[1;31mKeyboardInterrupt\u001b[0m                         Traceback (most recent call last)",
      "Cell \u001b[1;32mIn[16], line 57\u001b[0m\n\u001b[0;32m     55\u001b[0m src \u001b[38;5;241m=\u001b[39m os\u001b[38;5;241m.\u001b[39mpath\u001b[38;5;241m.\u001b[39mjoin(subfolder_dir, image_file)\n\u001b[0;32m     56\u001b[0m dst \u001b[38;5;241m=\u001b[39m os\u001b[38;5;241m.\u001b[39mpath\u001b[38;5;241m.\u001b[39mjoin(undersampled_class_dir, image_file)\n\u001b[1;32m---> 57\u001b[0m \u001b[43mshutil\u001b[49m\u001b[38;5;241;43m.\u001b[39;49m\u001b[43mcopyfile\u001b[49m\u001b[43m(\u001b[49m\u001b[43msrc\u001b[49m\u001b[43m,\u001b[49m\u001b[43m \u001b[49m\u001b[43mdst\u001b[49m\u001b[43m)\u001b[49m\n",
      "File \u001b[1;32mc:\\anaconda3\\lib\\shutil.py:258\u001b[0m, in \u001b[0;36mcopyfile\u001b[1;34m(src, dst, follow_symlinks)\u001b[0m\n\u001b[0;32m    255\u001b[0m \u001b[38;5;28;01mtry\u001b[39;00m:\n\u001b[0;32m    256\u001b[0m     \u001b[38;5;28;01mwith\u001b[39;00m \u001b[38;5;28mopen\u001b[39m(dst, \u001b[38;5;124m'\u001b[39m\u001b[38;5;124mwb\u001b[39m\u001b[38;5;124m'\u001b[39m) \u001b[38;5;28;01mas\u001b[39;00m fdst:\n\u001b[0;32m    257\u001b[0m         \u001b[38;5;66;03m# macOS\u001b[39;00m\n\u001b[1;32m--> 258\u001b[0m         \u001b[38;5;28;01mif\u001b[39;00m _HAS_FCOPYFILE:\n\u001b[0;32m    259\u001b[0m             \u001b[38;5;28;01mtry\u001b[39;00m:\n\u001b[0;32m    260\u001b[0m                 _fastcopy_fcopyfile(fsrc, fdst, posix\u001b[38;5;241m.\u001b[39m_COPYFILE_DATA)\n",
      "\u001b[1;31mKeyboardInterrupt\u001b[0m: "
     ]
    }
   ],
   "source": [
    "import os\n",
    "import shutil\n",
    "from collections import Counter\n",
    "from sklearn.utils import resample\n",
    "\n",
    "# 원본 이미지 데이터셋이 있는 폴더 경로\n",
    "original_dataset_dir = 'C:/Users/Sienna/Desktop/pet_eye_disease'\n",
    "\n",
    "# 언더샘플링된 이미지를 저장할 폴더 경로\n",
    "undersampled_dataset_dir = 'C:/Users/Sienna/Desktop/pet_eye_disease/undersampling'\n",
    "\n",
    "# 클래스(증상) 목록 가져오기\n",
    "class_list = os.listdir(original_dataset_dir)\n",
    "\n",
    "# 각 클래스(증상)마다 가장 적은 이미지 수 구하기\n",
    "min_image_count = float('inf')  # 무한대로 초기화\n",
    "for class_name in class_list:\n",
    "    # 클래스(증상) 폴더 경로\n",
    "    class_dir = os.path.join(original_dataset_dir, class_name)\n",
    "    \n",
    "    # 클래스(증상) 폴더 내의 하위 폴더 목록 가져오기\n",
    "    subfolders = [f for f in os.listdir(class_dir) if os.path.isdir(os.path.join(class_dir, f))]\n",
    "    \n",
    "    # 각 하위 폴더에 있는 이미지 수 구하기\n",
    "    for subfolder_name in subfolders:\n",
    "        subfolder_dir = os.path.join(class_dir, subfolder_name)\n",
    "        num_images = len([f for f in os.listdir(subfolder_dir) if os.path.isfile(os.path.join(subfolder_dir, f))])\n",
    "        min_image_count = min(min_image_count, num_images)\n",
    "\n",
    "# 각 클래스(증상)마다 언더샘플링을 수행하고 저장\n",
    "for class_name in class_list:\n",
    "    # 클래스(증상) 폴더 경로\n",
    "    class_dir = os.path.join(original_dataset_dir, class_name)\n",
    "    \n",
    "    # 클래스(증상) 폴더 내의 하위 폴더 목록 가져오기\n",
    "    subfolders = [f for f in os.listdir(class_dir) if os.path.isdir(os.path.join(class_dir, f))]\n",
    "    \n",
    "    # 각 하위 폴더에 있는 이미지 파일들을 복사\n",
    "    for subfolder_name in subfolders:\n",
    "        subfolder_dir = os.path.join(class_dir, subfolder_name)\n",
    "        \n",
    "        # 해당 하위 폴더의 이미지 파일 리스트 가져오기\n",
    "        image_files = [f for f in os.listdir(subfolder_dir) if os.path.isfile(os.path.join(subfolder_dir, f))]\n",
    "        \n",
    "        # 언더샘플링을 위한 샘플링 크기 계산\n",
    "        num_samples = min_image_count\n",
    "        \n",
    "        # 언더샘플링 수행\n",
    "        undersampled_images = resample(image_files, n_samples=num_samples, replace=False, random_state=42)\n",
    "        \n",
    "        # 언더샘플링된 이미지를 새로운 폴더에 복사\n",
    "        undersampled_class_dir = os.path.join(undersampled_dataset_dir, class_name, subfolder_name)\n",
    "        os.makedirs(undersampled_class_dir, exist_ok=True)\n",
    "        for image_file in undersampled_images:\n",
    "            src = os.path.join(subfolder_dir, image_file)\n",
    "            dst = os.path.join(undersampled_class_dir, image_file)\n",
    "            shutil.copyfile(src, dst)"
   ]
  },
  {
   "cell_type": "code",
   "execution_count": null,
   "metadata": {},
   "outputs": [
    {
     "ename": "NameError",
     "evalue": "name 'class_list' is not defined",
     "output_type": "error",
     "traceback": [
      "\u001b[1;31m---------------------------------------------------------------------------\u001b[0m",
      "\u001b[1;31mNameError\u001b[0m                                 Traceback (most recent call last)",
      "Cell \u001b[1;32mIn[15], line 6\u001b[0m\n\u001b[0;32m      4\u001b[0m \u001b[38;5;66;03m# 각 클래스(증상)마다 가장 적은 이미지 수 구하기\u001b[39;00m\n\u001b[0;32m      5\u001b[0m min_image_count \u001b[38;5;241m=\u001b[39m \u001b[38;5;28mfloat\u001b[39m(\u001b[38;5;124m'\u001b[39m\u001b[38;5;124minf\u001b[39m\u001b[38;5;124m'\u001b[39m)  \u001b[38;5;66;03m# 무한대로 초기화\u001b[39;00m\n\u001b[1;32m----> 6\u001b[0m \u001b[38;5;28;01mfor\u001b[39;00m class_name \u001b[38;5;129;01min\u001b[39;00m \u001b[43mclass_list\u001b[49m:\n\u001b[0;32m      7\u001b[0m     \u001b[38;5;66;03m# 클래스(증상) 폴더 경로\u001b[39;00m\n\u001b[0;32m      8\u001b[0m     class_dir \u001b[38;5;241m=\u001b[39m os\u001b[38;5;241m.\u001b[39mpath\u001b[38;5;241m.\u001b[39mjoin(original_dataset_dir, class_name)\n\u001b[0;32m     10\u001b[0m     \u001b[38;5;66;03m# 클래스(증상) 폴더 내의 하위 폴더 목록 가져오기\u001b[39;00m\n",
      "\u001b[1;31mNameError\u001b[0m: name 'class_list' is not defined"
     ]
    }
   ],
   "source": [
    "# 원본 이미지 데이터셋이 있는 폴더 경로\n",
    "original_dataset_dir = 'C:/Users/Sienna/Desktop/pet_eye_disease'\n",
    "\n",
    "# 각 클래스(증상)마다 가장 적은 이미지 수 구하기\n",
    "min_image_count = float('inf')  # 무한대로 초기화\n",
    "for class_name in class_list:\n",
    "    # 클래스(증상) 폴더 경로\n",
    "    class_dir = os.path.join(original_dataset_dir, class_name)\n",
    "    \n",
    "    # 클래스(증상) 폴더 내의 하위 폴더 목록 가져오기\n",
    "    subfolders = [f for f in os.listdir(class_dir) if os.path.isdir(os.path.join(class_dir, f))]\n",
    "    \n",
    "    # 각 하위 폴더에 있는 이미지 수 구하기\n",
    "    for subfolder_name in subfolders:\n",
    "        subfolder_dir = os.path.join(class_dir, subfolder_name)\n",
    "        num_images = len([f for f in os.listdir(subfolder_dir) if os.path.isfile(os.path.join(subfolder_dir, f))])\n",
    "        min_image_count = min(min_image_count, num_images)\n",
    "\n",
    "# 결과 출력\n",
    "print(f'가장 적은 이미지 수: {min_image_count}')"
   ]
  },
  {
   "cell_type": "code",
   "execution_count": 17,
   "metadata": {},
   "outputs": [],
   "source": [
    "# 특정 개수로 언더샘플링\n",
    "import os\n",
    "import shutil\n",
    "\n",
    "# 원본 이미지 데이터셋이 있는 폴더 경로\n",
    "original_dataset_dir = 'C:/Users/Sienna/Desktop/pet_eye_disease'\n",
    "\n",
    "# 클래스(증상) 목록 가져오기\n",
    "class_list = os.listdir(original_dataset_dir)\n",
    "\n",
    "# 각 클래스(증상)마다 가장 하위 폴더의 이미지 수가 3531개가 되도록 샘플링\n",
    "target_image_count = 3531\n",
    "for class_name in class_list:\n",
    "    # 클래스(증상) 폴더 경로\n",
    "    class_dir = os.path.join(original_dataset_dir, class_name)\n",
    "    \n",
    "    # 클래스(증상) 폴더 내의 하위 폴더 목록 가져오기\n",
    "    subfolders = [f for f in os.listdir(class_dir) if os.path.isdir(os.path.join(class_dir, f))]\n",
    "    \n",
    "    # 각 하위 폴더에 있는 이미지 수 확인하여 필요에 따라 삭제\n",
    "    for subfolder_name in subfolders:\n",
    "        subfolder_dir = os.path.join(class_dir, subfolder_name)\n",
    "        \n",
    "        # 해당 하위 폴더의 이미지 파일 리스트 가져오기\n",
    "        image_files = [f for f in os.listdir(subfolder_dir) if os.path.isfile(os.path.join(subfolder_dir, f))]\n",
    "        num_images = len(image_files)\n",
    "        \n",
    "        # 필요에 따라 이미지 삭제\n",
    "        if num_images > target_image_count:\n",
    "            # 초과된 이미지 파일 삭제\n",
    "            for image_file in image_files[target_image_count:]:\n",
    "                os.remove(os.path.join(subfolder_dir, image_file))\n",
    "        elif num_images < target_image_count:\n",
    "            # 부족한 이미지 생성 (여기에는 이미지 증강 코드를 넣어주세요)\n",
    "            pass\n"
   ]
  },
  {
   "cell_type": "markdown",
   "metadata": {},
   "source": [
    "# data augmentation"
   ]
  },
  {
   "cell_type": "code",
   "execution_count": 3,
   "metadata": {},
   "outputs": [
    {
     "name": "stdout",
     "output_type": "stream",
     "text": [
      "최대 이미지 수: 7758\n"
     ]
    }
   ],
   "source": [
    "import os\n",
    "import random\n",
    "from torchvision import transforms\n",
    "from PIL import Image\n",
    "\n",
    "# 데이터 폴더 경로 설정\n",
    "data_folder = 'C:/Users/Sienna/2024project/data'\n",
    "\n",
    "# 데이터 폴더 내의 최하위 폴더의 이미지 수를 계산하는 함수\n",
    "def count_images_per_leaf_class(folder):\n",
    "    counts = {}\n",
    "    for root, dirs, files in os.walk(folder):\n",
    "        if not dirs:  # 최하위 폴더인 경우\n",
    "            class_name = os.path.relpath(root, folder)\n",
    "            counts[class_name] = len(files)\n",
    "    return counts\n",
    "\n",
    "# 가장 이미지 수가 많은 최하위 폴더의 이미지 수를 구하는 함수\n",
    "def max_images_count(folder):\n",
    "    counts = count_images_per_leaf_class(folder)\n",
    "    return max(counts.values(), default=0)\n",
    "\n",
    "# 데이터 증강을 위한 변환 설정\n",
    "transform = transforms.Compose([\n",
    "    transforms.RandomHorizontalFlip(),  # 이미지를 수평으로 무작위로 뒤집습니다\n",
    "    transforms.RandomRotation(30),  # 이미지를 최대 30도까지 무작위로 회전\n",
    "    transforms.ColorJitter(brightness=0.2, contrast=0.2, saturation=0.2, hue=0.1),  # 이미지의 채도, 명암, 밝기 등을 무작위로 변경하여 색상을 다양화\n",
    "    transforms.RandomVerticalFlip(),  # 이미지를 수직으로 무작위로 뒤집습니다\n",
    "    transforms.RandomAffine(degrees=10, translate=(0.1, 0.1), scale=(0.9, 1.1)),\n",
    "    transforms.Resize((224, 224)),\n",
    "    transforms.ToTensor(),\n",
    "])\n",
    "\n",
    "# 이미지 수를 맞추기 위해 최하위 폴더의 데이터를 증강하는 함수\n",
    "def augment_to_match_max(folder, max_count):\n",
    "    for root, dirs, files in os.walk(folder):\n",
    "        if not dirs:  # 최하위 폴더인 경우\n",
    "            image_paths = [os.path.join(root, file) for file in files]\n",
    "            current_count = len(image_paths)\n",
    "            if current_count < max_count:\n",
    "                images_to_augment = max_count - current_count\n",
    "                for i in range(images_to_augment):\n",
    "                    # 이미지를 임의로 선택하여 복제\n",
    "                    image_file = random.choice(image_paths)\n",
    "                    image = Image.open(image_file)\n",
    "                    transformed_image = transform(image)\n",
    "                    new_file_name = f\"augmented_{current_count + i}.jpg\"\n",
    "                    new_image_path = os.path.join(root, new_file_name)\n",
    "                    # 텐서를 PIL 이미지로 변환 후 저장\n",
    "                    pil_image = transforms.ToPILImage()(transformed_image)\n",
    "                    pil_image.save(new_image_path)\n",
    "\n",
    "# 가장 이미지 수가 많은 최하위 폴더의 이미지 수 구하기\n",
    "max_count = max_images_count(data_folder)\n",
    "\n",
    "\n",
    "print(f\"최대 이미지 수: {max_count}\")\n"
   ]
  },
  {
   "cell_type": "code",
   "execution_count": 4,
   "metadata": {},
   "outputs": [
    {
     "name": "stdout",
     "output_type": "stream",
     "text": [
      "데이터 증강이 완료되었습니다.\n"
     ]
    }
   ],
   "source": [
    "# 최하위 폴더의 데이터를 증강\n",
    "augment_to_match_max(data_folder, max_count)\n",
    "print(\"데이터 증강이 완료되었습니다.\")"
   ]
  },
  {
   "cell_type": "code",
   "execution_count": 5,
   "metadata": {},
   "outputs": [
    {
     "name": "stdout",
     "output_type": "stream",
     "text": [
      "C:/Users/Sienna/2024project/data\\C1\\Negative 7758\n",
      "C:/Users/Sienna/2024project/data\\C1\\Positive 7758\n",
      "C:/Users/Sienna/2024project/data\\C2\\Negative 7758\n",
      "C:/Users/Sienna/2024project/data\\C2\\Positive 7758\n",
      "C:/Users/Sienna/2024project/data\\D3\\Mild 7758\n",
      "C:/Users/Sienna/2024project/data\\D3\\Negative 7758\n",
      "C:/Users/Sienna/2024project/data\\D3\\Severe 7758\n",
      "C:/Users/Sienna/2024project/data\\D4\\Early-stage 7758\n",
      "C:/Users/Sienna/2024project/data\\D4\\Immature 7758\n",
      "C:/Users/Sienna/2024project/data\\D4\\Mature 7758\n",
      "C:/Users/Sienna/2024project/data\\D4\\Negative 7758\n"
     ]
    }
   ],
   "source": [
    "# 파일 개수 확인\n",
    "\n",
    "import os\n",
    "\n",
    "path = 'C:/Users/Sienna/2024project/data'\n",
    "\n",
    "# # 서브 디렉토리 목록 출력\n",
    "# for root, subdirs, files in os.walk(path):\n",
    "\n",
    "#     for d in subdirs:\n",
    "#         fullpath = root + '/' + d\n",
    "#         print(fullpath)\n",
    "\n",
    "# print()\n",
    "\n",
    "# 서브 디렉토리별 파일 개수 출력\n",
    "for root, subdirs, files in os.walk(path):\n",
    "\n",
    "    if len(files) > 0:\n",
    "        print(root, len(files))"
   ]
  }
 ],
 "metadata": {
  "kernelspec": {
   "display_name": "study",
   "language": "python",
   "name": "python3"
  },
  "language_info": {
   "codemirror_mode": {
    "name": "ipython",
    "version": 3
   },
   "file_extension": ".py",
   "mimetype": "text/x-python",
   "name": "python",
   "nbconvert_exporter": "python",
   "pygments_lexer": "ipython3",
   "version": "3.10.13"
  }
 },
 "nbformat": 4,
 "nbformat_minor": 2
}
